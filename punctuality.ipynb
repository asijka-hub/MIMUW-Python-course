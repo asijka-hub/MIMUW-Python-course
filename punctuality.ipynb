{
 "cells": [
  {
   "cell_type": "markdown",
   "metadata": {},
   "source": [
    "Tego nie zdazylem zrobic moj plan to byl wczytak wszystkie dane do takiego formatu\n",
    "jak w w schedule json a potem pandasem i numpy przeanalizowac je\n",
    "\n",
    "Moim pomyslem bylo patrzenie z perspektywy przystanku \n",
    "\n",
    "ktory wie kiedy co ma przejechac, i trzyma sobie przedzialy czasowe w taki sposob\n",
    "\n",
    "ze przyjazd 1m przed czasem to raczej autobus jest za szybko ale juz np 2-3 przed czasem\n",
    "to duze spoznienie z poprzedniego okresu\n",
    "do ustalenia kiedy autobus jest blisko planowalem sprawdzac promien wokul przestanku np 300m \n",
    "ogolnie okolo tyle ile autobus moze mniej wiecej przejechac w ciagu minuty \n",
    "\n",
    "mialem takiego pomysly na dalsza analize ktorych nie zdazylem zrobic"
   ]
  },
  {
   "cell_type": "code",
   "execution_count": null,
   "metadata": {
    "vscode": {
     "languageId": "plaintext"
    }
   },
   "outputs": [],
   "source": [
    "## SREDNI CZAS SPOZNIENIA WSZYSTKICH AUTOBUSOW NA DANYM PRZYSTANKU\n",
    "\n",
    "## x czas (10 12 14 16 18) y srednia predkosc wybranej lini w konkretnej godzinie dla kilku wybranych (nie za duzo MAX 7)\n",
    "\n",
    "## SREDNI CZAS OPOZNIENIA DLA PRZYSTANKU W ZALEZNOSCI OD GODZINY w \n",
    "\n",
    "## HEAT MAP dla kilku godzin \n",
    "\n",
    "## HEAT MAPY dla spoznien, srednich wartosci spoznien, i spoznien w wielu godzinach"
   ]
  },
  {
   "cell_type": "markdown",
   "metadata": {},
   "source": [
    "Oprocz tego w downloading.ipynb jest niedonczona wersja pobierania"
   ]
  }
 ],
 "metadata": {
  "language_info": {
   "name": "python"
  }
 },
 "nbformat": 4,
 "nbformat_minor": 2
}
