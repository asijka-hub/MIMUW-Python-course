{
 "cells": [
  {
   "cell_type": "code",
   "execution_count": 2,
   "metadata": {},
   "outputs": [],
   "source": [
    "import requests\n",
    "import json\n",
    "import csv\n",
    "\n",
    "API_KEY = '647dea7e-31a1-4c10-858a-de4e43c3d022'"
   ]
  },
  {
   "cell_type": "code",
   "execution_count": 10,
   "metadata": {},
   "outputs": [
    {
     "name": "stdout",
     "output_type": "stream",
     "text": [
      "{'id': 'b27f4c17-5c50-4a5b-89dd-236b282bc499', 'name': 'Marszałkowska', 'apikey': '647dea7e-31a1-4c10-858a-de4e43c3d022'}\n",
      "    {\"result\":\"false\",\"error\":\"Nieautoryzowany dost\\u0119p do danych\"} \n",
      "\n"
     ]
    }
   ],
   "source": [
    "payload = {'id': 'b27f4c17-5c50-4a5b-89dd-236b282bc499', 'name': 'Marszałkowska', 'apikey': API_KEY}\n",
    "\n",
    "print(payload)\n",
    "\n",
    "response = requests.get('https://api.um.warszawa.pl/api/action/dbtimetable_get?', data=payload)\n",
    "print(response.text)"
   ]
  },
  {
   "cell_type": "code",
   "execution_count": 21,
   "metadata": {},
   "outputs": [
    {
     "name": "stdout",
     "output_type": "stream",
     "text": [
      "    {\"result\":[{\"values\":[{\"value\":\"7009\",\"key\":\"zespol\"},{\"value\":\"Marsza\\u0142kowska\",\"key\":\"nazwa\"}]}]} \n",
      "\n"
     ]
    }
   ],
   "source": [
    "url = 'https://api.um.warszawa.pl/api/action/dbtimetable_get/?id=b27f4c17-5c50-4a5b-89dd-236b282bc499&name=Marsza%C5%82kowska&apikey=647dea7e-31a1-4c10-858a-de4e43c3d022'\n",
    "\n",
    "response = requests.get(url)\n",
    "\n",
    "if response.status_code == 200:\n",
    "    # Printing the content of the response\n",
    "    print(response.text)\n",
    "else:\n",
    "    print(f'Failed to retrieve data from the URL. Status code: {response.status_code}')"
   ]
  },
  {
   "cell_type": "code",
   "execution_count": 7,
   "metadata": {},
   "outputs": [
    {
     "name": "stdout",
     "output_type": "stream",
     "text": [
      "https://api.um.warszawa.pl/api/action/public_transport_dictionary/?apikey=647dea7e-31a1-4c10-858a-de4e43c3d022\n",
      "dict_keys(['ulice', 'typy_przystankow', 'miejsca'])\n"
     ]
    }
   ],
   "source": [
    "\n",
    "dictionary_url = f'https://api.um.warszawa.pl/api/action/public_transport_dictionary/?apikey={API_KEY}'\n",
    "print(dictionary_url)\n",
    "\n",
    "response = requests.get(dictionary_url) \n",
    "\n",
    "if response.status_code == 200:\n",
    "    # Printing the content of the response\n",
    "    response_json = response.json()\n",
    "\n",
    "    # Printing the content of the response with nicely formatted JSON\n",
    "    # print(json.dumps(response_json, indent=4))\n",
    "\n",
    "    response_json = response.json()\n",
    "\n",
    "    # for i in response_json['result']:\n",
    "    #     print(i)\n",
    "\n",
    "    # Assuming the JSON structure contains a list of dictionaries under a specific key (e.g., 'data')\n",
    "    data_list = response_json['result'].keys()\n",
    "\n",
    "    print(data_list)\n",
    "    # Specify the CSV file name API_KEY\n",
    "\n",
    "    with open('data/dictionary.json', 'w', encoding='utf-8') as f:\n",
    "        json.dump(response_json, f, ensure_ascii=False, indent=4)\n",
    "else:\n",
    "    print(f'Failed to retrieve data from the URL. Status code: {response.status_code}')"
   ]
  },
  {
   "cell_type": "code",
   "execution_count": 14,
   "metadata": {},
   "outputs": [
    {
     "name": "stdout",
     "output_type": "stream",
     "text": [
      "https://api.um.warszawa.pl/api/action/busestrams_get/?resource_id=f2e5503e-927d-4ad3-9500-4ab9e55deb59?apikey=647dea7e-31a1-4c10-858a-de4e43c3d022?type=1\n"
     ]
    }
   ],
   "source": [
    "online_url = f'https://api.um.warszawa.pl/api/action/busestrams_get/?resource_id=f2e5503e-927d-4ad3-9500-4ab9e55deb59?apikey={API_KEY}?type=1'\n",
    "\n",
    "good_url =    'https://api.um.warszawa.pl/api/action/busestrams_get/?resource_id=%20f2e5503e-927d-4ad3-9500-4ab9e55deb59&apikey=647dea7e-31a1-4c10-858a-de4e43c3d022&type=1'\n",
    "\n",
    "print(online_url)\n",
    "\n",
    "response = requests.get(good_url)\n",
    "\n",
    "if response.status_code == 200:\n",
    "    response_json = response.json()\n",
    "    # print(json.dumps(response_json, indent=4))\n",
    "\n",
    "    with open('data/online.json', 'w', encoding='utf-8') as f:\n",
    "        json.dump(response_json, f, ensure_ascii=False, indent=4)\n",
    "else:\n",
    "    print(f'Failed to retrieve data from the URL. Status code: {response.status_code}')"
   ]
  },
  {
   "cell_type": "code",
   "execution_count": 16,
   "metadata": {},
   "outputs": [
    {
     "name": "stdout",
     "output_type": "stream",
     "text": [
      "{\n",
      "    \"result\": []\n",
      "}\n"
     ]
    }
   ],
   "source": [
    "stops_url = f'https://api.um.warszawa.pl/api/action/dbtimetable_get?id=b27f4c17-5c50-4a5b-89dd-236b282bc499&name=nazwaprzystanku&apikey={API_KEY}'\n",
    "\n",
    "response = requests.get(stops_url)\n",
    "\n",
    "if response.status_code == 200:\n",
    "    response_json = response.json()\n",
    "    print(json.dumps(response_json, indent=4))\n",
    "\n",
    "    with open('data/stops.json', 'w', encoding='utf-8') as f:\n",
    "        json.dump(response_json, f, ensure_ascii=False, indent=4)\n",
    "else:\n",
    "    print(f'Failed to retrieve data from the URL. Status code: {response.status_code}')"
   ]
  }
 ],
 "metadata": {
  "kernelspec": {
   "display_name": "Python 3",
   "language": "python",
   "name": "python3"
  },
  "language_info": {
   "codemirror_mode": {
    "name": "ipython",
    "version": 3
   },
   "file_extension": ".py",
   "mimetype": "text/x-python",
   "name": "python",
   "nbconvert_exporter": "python",
   "pygments_lexer": "ipython3",
   "version": "3.11.7"
  }
 },
 "nbformat": 4,
 "nbformat_minor": 2
}
