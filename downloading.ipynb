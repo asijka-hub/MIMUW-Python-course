{
 "cells": [
  {
   "cell_type": "code",
   "execution_count": 1,
   "metadata": {},
   "outputs": [],
   "source": [
    "from DATA_LOADER import DataLoader\n",
    "import json\n",
    "\n",
    "API_KEY = '####'\n",
    "DATA_PATH = 'data'"
   ]
  },
  {
   "cell_type": "markdown",
   "metadata": {},
   "source": [
    "Prezentacja jak dziala downloader"
   ]
  },
  {
   "cell_type": "code",
   "execution_count": 2,
   "metadata": {},
   "outputs": [
    {
     "name": "stdout",
     "output_type": "stream",
     "text": [
      "api key:  647dea7e-31a1-4c10-858a-de4e43c3d022\n",
      "data path: /home/andrzej/studia/python/MIMUW-Python-course/data\n",
      "created data loader\n"
     ]
    }
   ],
   "source": [
    "\n",
    "\n",
    "data_loader = DataLoader(API_KEY, DATA_PATH)\n"
   ]
  },
  {
   "cell_type": "code",
   "execution_count": 4,
   "metadata": {},
   "outputs": [
    {
     "name": "stdout",
     "output_type": "stream",
     "text": [
      "https://api.um.warszawa.pl/api/action/busestrams_get/?resource_id=%20f2e5503e-927d-4ad3-9500-4ab9e55deb59&apikey=647dea7e-31a1-4c10-858a-de4e43c3d022&type=1\n"
     ]
    },
    {
     "name": "stderr",
     "output_type": "stream",
     "text": [
      "Processing: 100%|██████████| 20/20 [20:49<00:00, 62.47s/iteration]\n"
     ]
    }
   ],
   "source": [
    "data_loader.download_online_data(20, '2202_1800.json')\n",
    "\n"
   ]
  },
  {
   "cell_type": "code",
   "execution_count": 32,
   "metadata": {},
   "outputs": [
    {
     "name": "stdout",
     "output_type": "stream",
     "text": [
      "{\n",
      "    \"result\": [\n",
      "        {\n",
      "            \"values\": [\n",
      "                {\n",
      "                    \"value\": \"6034\",\n",
      "                    \"key\": \"zespol\"\n",
      "                },\n",
      "                {\n",
      "                    \"value\": \"Akcent\",\n",
      "                    \"key\": \"nazwa\"\n",
      "                }\n",
      "            ]\n",
      "        }\n",
      "    ]\n",
      "}\n"
     ]
    }
   ],
   "source": [
    "print(json.dumps(data_loader.download_stop_info(\"Akcent\"), indent=4))\n"
   ]
  },
  {
   "cell_type": "code",
   "execution_count": null,
   "metadata": {},
   "outputs": [],
   "source": [
    "data = data_loader.download_lines_info(1405, '01')\n",
    "print(json.dumps(data, indent=4))"
   ]
  },
  {
   "cell_type": "code",
   "execution_count": null,
   "metadata": {},
   "outputs": [],
   "source": [
    "data = data_loader.download_schedule_info(1405, '01', 516)\n",
    "print(json.dumps(data, indent=4))"
   ]
  },
  {
   "cell_type": "markdown",
   "metadata": {},
   "source": [
    "Ponizej moja niedokonczona proba pobrania danych dla analizy punktuanoscli\n",
    "\n",
    "chcialem z tego osiagnac cos co zapisane bedzie takie jak schedule.json"
   ]
  },
  {
   "cell_type": "code",
   "execution_count": 31,
   "metadata": {},
   "outputs": [
    {
     "name": "stdout",
     "output_type": "stream",
     "text": [
      "['Gerbera', 'Gąsiorowskiego', 'Gromali', 'Głowackiego', 'Galla Anonima', 'Grzymały-Sokołowskiego', 'Gwintowa', 'Geodetów', 'Dzierzgońska', 'Dojazdowa', 'Dąbrowskiego', 'Dudziarska', 'Al.Polski Walczącej', 'rondo Jana Pawła II', 'rondo Poniatowskiego', 'rondo Hallera', 'rondo Legionów Polskich', 'Echa Leśne', 'Stefana Batorego', 'szosa lubelska', 'Statkowskiego', 'Sokola', 'Szaserów', 'Sympatyczna', 'Szpitalna', '--------- ZEGRZE PŁD. --------', '---------- KARCZEW -----------', '----------- RYNIA ------------', '----------- RUDKA ------------', 'gen.Roi', 'Pionierska', 'Przerąbkowska', '-------- STANISŁAWÓW ---------', 'Nasielska', '-------- GÓRA KALWARIA -------', 'Nowodworska', '----- WÓLKA DWORSKA ----------', 'Kasztanowa', 'Różana', 'Niepodległości', '------------ KĄTY ------------', '--------- STEFANOWO ----------', '--------- PIECZYSKA ----------', '---------- ZADĘBIE -----------', 'Olszankowa', 'Przykościelna', 'Piłsudskiego', 'Dworska', 'Podróżna', 'Od Lasu', 'Krasnowolska', 'Księżycowa', 'Królewicza Jakuba', 'Księcia Bolesława', 'Kwitnąca', 'Matarewicza', 'Majowa', 'Mańkowska', 'Mehoffera-Bis', 'Magiczna', 'Mokry Ług', 'Marmurowa', 'Stroma', 'Gminna', 'Górna', 'Gromadzka', 'Gajowa', 'Gdyńska', 'Gryczana', 'Dankowicka', 'Dziekanowska', '----------- TURÓW ------------', 'Unicka', 'Bukowska', 'Utrata', 'Umiastowska', 'Braci Leśnej', 'Ułanów', 'Bieszczadzka', 'Urocza', 'Borków', 'Bolesława Krzywoustego', 'Brzozowa', 'Bohaterów Modlina', 'Baczyńskiego', '-------- MOCZYDŁÓW -----------', 'Staszica', 'Starochylicka', 'Suwalna', 'Słoneczna', 'Sportowa', 'Sierakowskiego', 'Szkolna', 'Sierakowska', '--------- CHYLICZKI ----------', '---------- GŁOSKÓW -----------', 'estakada', 'droga lokalna', 'droga krajowa nr 17', 'droga przez Radiówek', '------ GŁOSKÓW-LETNISKO ------', '----------- GOŁKÓW -----------', '---------- JESÓWKA -----------', 'Rataja', 'Nocznickiego', 'Nowowiejska', 'Nowy Świat', '----------- KRUBIN -----------', '------------ GÓRA ------------', '------------ ŁĘG -------------', '---------- HABDZIN -----------', '----------- GASSY ------------', '---------- CZERNIDŁA ---------', '--------- CIECISZEW ----------', '----------- RUNÓW ------------', '----------- OPACZ ------------', '---------- CISZYCA -----------', 'Milenijna', 'Narutowicza', '-------- WÓLKA PRACKA --------', 'Newelska', 'Nugat', 'Naczelnikowska', 'Niemcewicza', 'Namysłowska', '---------- DĘBINA ------------', '--------- BOŻA WOLA ----------', '---- CZĄSTKÓW MAZOWIECKI -----', '---------- CZOSNÓW -----------', '---------- RAJSZEW -----------', '--------- SUCHOCIN -----------', '---------- SKIERDY -----------', '---------- ŁOMNA -------------', '------ CZĄSTKÓW POLSKI -------', 'Opackiego', 'Mrokowska', 'Mościckiego', 'Milenium', '3 Maja', 'Moraczewskiego', 'Moniuszki', 'Odkryta', 'Klaudyny', '----------- OBÓRKI -----------', 'Grunwaldzka', 'Kopijników', 'Dębowa', 'Dworkowa', 'Dorodna', 'Dionizosa', 'Dominikańska', 'Daniszewska', 'Boryny', 'Bema', 'Budowlanych', 'Branickiego', 'Bandurskiego', 'Bankowa', '---------- KAŁUSZYN ----------', 'Targowa', 'Towarowa', 'Trakt Lubelski', 'Toruńska', 'Trocka', 'Terespolska', 'Tamka', '------ BORZĘCIN MAŁY ---------', 'Wersalska', 'Wspólna', 'Wałbrzyska', 'Wóycickiego', 'al.gen.Chruściela', 'Wysockiego', 'Wyszogrodzka', 'Włókiennicza', 'Woronicza', 'Jachowicza', 'łącznik ul.Zatorze', 'parking', 'palmirska droga', 'Przy Agorze', 'Podleśna', 'Powązkowska', 'Płowiecka', 'Piękna', 'Pożaryskiego', 'Paryska', 'Piaseczyńska', 'Na Skraju', 'Nowoursynowska', '---------- ŁOZISKA -----------', '-- DĘBÓWKA k. GÓRY KALWARII --', 'Duża', 'Nizinna', 'Jaśminowa', '--------- JAZGARZEW ----------', '-------- ZALESIE GÓRNE -------', '------- WÓLKA KOZODAWSKA -----', 'Pólko', 'Pustelnicka', 'Nowy Zjazd', 'Nowolipki', 'Żołnierzy Wyklętych', 'Żerańska', 'Żelazowska', 'Żymirskiego', 'Zatorze', '--------- CZAPLINEK ----------', '--------- CZARNY LAS ---------', '-------- KĘPA OBORSKA --------', 'Zgoda', '---------- OSSÓW -------------', '------ LEŚNIAKOWIZNA ---------', '----- MAJDAN k. WOŁOMINA -----', '--------- CIĘCIWA ------------', '--------- MOSTÓWKA -----------', '-------- NOWE LIPINY ---------', 'Zegrzyńska', 'Młochowska', 'Marecka', 'Morawicza', '1 Maja', 'ks.Marmo', '----------- ZĄBKI ------------', 'Majolikowa', '--------- BOBROWIEC ----------', 'Księżnej Anny', '---------- WARSZAWA ----------', '--------- PIASECZNO ----------', 'Zawodzie', 'Kobylańska', 'Tuzinowa', '----- KOLONIA WARSZAWSKA -----', 'Rzeczna', '---------- MYSIADŁO ----------', '---------- ŁBISKA ------------', 'Pomnikowa', 'Makowska', '----------- ZAKRĘT -----------', '------- WÓLKA KOSOWSKA -------', 'Rudnickiego', 'Coopera', '---------- SIERAKÓW ----------', 'Rozbrat', '--------- SIERZCHÓW ----------', 'gen.Rozwadowskiego', '-------- CENDROWICE ----------', 'Ryżowa', '----------- PÓLKO ------------', 'Ręczajska', '---------- PILAWA ------------', 'Dworcowa', 'Deotymy', 'Dolina Służewiecka', 'Długa', 'Dzierżoniowska', 'Dzieci Warszawy', 'Dzika', 'Domaniewska', 'Dereniowa', 'Dickensa', 'Legionów', 'Bielawska', 'Boya-Żeleńskiego', 'Bielańska', 'Białej Góry', 'Baletowa', 'Bardowskiego', 'Traktorzystów', 'Techników', 'Turbinowa', 'Topiel', 'Techniczna', 'Trenów', 'Trakt Brzeski', 'Wiatraczna', 'Wał Miedzeszyński', 'Waryńskiego', 'Wierzbowa', 'Wybrzeże Kościuszkowskie', 'Wólczyńska', 'Wolska', 'Wileńska', 'Powstańców Śląskich', 'Połczyńska', 'Podskarbińska', 'Prosta', 'Zgrupowania AK \"Kampinos\"', 'Puławska', 'Pionierów', 'Płocka', 'Polska', '-------- NOWY DWÓR MAZ. ------', '---------- OKUNIN ------------', 'Konopnickiej', '---------- GARBATKA ----------', 'pl.Czerwca 1976 r.', 'Gierdziejewskiego', 'Posag 7 Panien', '----- STANISŁAWÓW DRUGI ------', 'Reja', 'Jana Pawła II', '------ WOLA ALEKSANDRA -------', 'Konwiktorska', 'Nadarzyńska', 'Kołowa', '---------- BANIOCHA ----------', 'Metryczna', 'Norwida', '---------- CZARNA ------------', '------ STARE GRABIE ----------', '------- NOWE GRABIE ----------', 'płk.Kuklińskiego', '--------- LIPINKI ------------', '-------- ZAGOŚCINIEC ---------', '---- HELENÓW k. WOŁOMINA -----', '---------- SZYMANÓW ----------', '------- STARE LIPINY ---------', '--------- BOGATKI ------------', 'Narkiewicza', 'Olsztyńska', 'Odrowąża', 'Obozowa', 'Okopowa', 'Ordona', 'Odyńca', 'Ostrobramska', 'Okularowa', 'Opieńki', 'Obrzeżna', 'Chodzonego', 'Kompanii Kordian', 'Jasińskiego', 'Jesiennych Liści', 'Jabłoniowa', 'Juhasów', 'Ryxa', '---------- ZGORZAŁA ----------', '---------- ZAMIENIE ----------', '---------- TRUSKAW -----------', '--------- PODOLSZYN ----------', '---------- MARYSIN -----------', '----------- MAJDAN -----------', 'Batalionów Chłopskich', '---------- MOŚCISKA ----------', '------------ ŁADY ------------', 'Trąby', 'Kruczkowskiego', 'Kinowa', 'Księcia Janusza', 'Kwitnącej Akacji', 'Kocjana', 'Kopińska', 'Klasyków', 'Karczewska', 'Kampinoska', 'Kordeckiego', 'Dźwigowa', 'Drewny', 'Dywizjonu 303', 'Dwernickiego', 'Dąbrowszczaków', 'Dobra', 'Derkaczy', 'Dolna', 'Brata Alberta', 'Bodycha', 'Bennetta', 'Boryszewska', 'Beethovena', 'Bohaterów Ossowa', 'Bystra', 'Hanki Ordonówny', 'most a.Jagiellonki', 'Tarnogórska', 'Tużycka', 'Trakt Królewski', 'Topolowa', 'Skarbka z Gór', 'Szybka', 'ks.Skorupki', 'Sacharowa', 'Stefczyka', 'Stefanika', 'Sasina', 'Stare Miasto', 'Szeroka', 'Wioślarska', 'Wybrzeże Gdańskie', 'Wiślana', 'Władysława Jagiełły', 'Kłopotowskiego', 'Wierna', 'Władysława Laskonogiego', 'Wojciechowskiego', 'Powstańców Warszawy', 'Portowa', 'Paderewskiego', 'Przewodowa', 'Patriotów', 'Podmokła', 'Panny Wodnej', 'Poezji', 'Płochocińska', 'Verdiego', 'Vogla', 'Rokicka', 'Żwirowa', 'Klembowska', 'Trasa Siekierkowska', 'most Siekierkowski', 'Przemysłowa', 'Nowa', 'Ptaków Leśnych', 'Rolnicza', '--------- WALENDÓW -----------', '----------- OBORY ------------', '---------- CZARNÓW -----------', '------ WOLA KARCZEWSKA -------', '-------- WOLA DUCKA ----------', '------ HENRYKÓW-UROCZE -------', '---------- PARCELA -----------', '---------- ŁYCZYN ------------', '-------- KAWĘCZYNEK ----------', '--------- BOROWINA -----------', '---------- PASZKÓW -----------', 'most Poniatowskiego', '----------- ŁUBNA ------------', '--------- KAMPINOS -----------', '---------- WILKÓW ------------', '------- WILKOWA WIEŚ ---------', '---------- WIEJCA ------------', '--------- BRZEZINY -----------', '---------- GRĄDY -------------', '----- GROCHOWA-PĘCHERY -------', '------- WOLA MROKOWSKA -------', 'Opłotek', 'Ochocza', 'Olecka', 'Ossowskiego', 'Ołówkowa', 'Orzycka', 'Jarząbka', 'Rydygiera', 'Jagodowa', 'Jarzębinowa', '-------- KONIK STARY ---------', '----------- KOPRKI -----------', 'Kalwaryjska', '---------- JAWOROWA ----------', '---------- JAWCZYCE ----------', '---------- HORNÓWEK ----------', '-------- SĘKOCIN LAS ---------', '---------- KLAUDYN -----------', '--------- KONIK NOWY ---------', '----------- JANÓW ------------', '---------- KWIRYNÓW ----------', 'Ilskiego', 'Indiry Gandhi', 'Instalatorów', 'Izbicka', 'Inżynierska', 'Kłobucka', 'Korkowa', 'Krzyckiego', 'Krasickiego', 'Konstruktorska', 'Kasprowicza', 'Krańcowa', 'Kleszczowa', 'Kusocińskiego', '--------- MACIERZYSZ ---------', 'Rejonowa', '---------- JESIONOWA ---------', '---------- PRAŻMÓW -----------', 'Radnych', 'Ćmielowska', 'Bokserska', 'Bolimowska', 'Białobrzeska', 'Borowa', 'Bohaterów', 'Boznańskiej', 'Bystrzycka', 'Belgradzka', 'Bruzdowa', 'Tajemnicza', 'Turystyczna', 'Trakt Nadwiślański', 'Tęczowa', 'Taneczna', 'Trasa Świętokrzyska', 'Cyrulików', 'Czwartaków', 'Chłopickiego', 'Cybernetyki', 'Ciszewskiego', 'Cynamonowa', 'Codzienna', 'Chrzanowskiego', 'Chełmżyńska', 'Cyraneczki', 'al.Stanów Zjednoczonych', 'al.Nadwiślańska', 'al.Piłsudskiego', 'al.Armii Krajowej', 'Abrahama', 'Andersa', 'Trasa Łazienkowska', 'al.Legionów', 'Armii Krajowej', 'Stara', 'Solidarności', 'Społeczna', 'Strużańska', '1 Sierpnia', 'Sprawna', 'Strzykulska', 'Sągi', 'Wałowicka', 'Bitwy Warszawskiej 1920 r.', 'Wrocławska', 'Warszawska', 'Wojska Polskiego', 'Wałuszewska', 'Wawelska', 'Walcownicza', 'Wybrzeże Szczecińskie', 'Widoczna', 'Perzyńskiego', 'Przekorna', 'Przyczółkowa', 'Pod Bateriami', 'Palisadowa', 'Pawińskiego', 'Pruszkowska', 'Postępu', 'Poczty Gdańskiej', 'Rybieńska', '----------- KAPUTY -----------', 'Rolna', 'Rycerska', '------ WOLA PRAŻMOWSKA -------', 'Rynek', '------- JAROSZOWA WOLA -------', '------- WOLA WĄGRODZKA -------', 'Rodziewiczówny', 'Roentgena', '---------- UMIASTÓW ----------', '--------- POGROSZEW ----------', 'Rybaki', '---------- CZAPLIN -----------', '--------- WINCENTÓW ----------', '----------- OBRĘB ------------', '--- KRZAKI CZAPLINKOWSKIE ----', '----------- ŁĄKI -------------', '--------- CZACHÓWEK ----------', '---------- CZERSK ------------', '-------- BENIAMINÓW ----------', '----------- LININ ------------', '---------- CONIEW ------------', 'Okrzei', 'Oknicka', 'Odlewnicza', 'Okólna', 'Okulickiego', 'Orłów Piastowskich', 'Orląt Lwowskich', '----------- DAWIDY -----------', '-------- NOWY SĘKOCIN --------', '---------- FALENTY -----------', '------- DAWIDY BANKOWE -------', '---------- ZAGÓRZE -----------', '---------- CHYLICE -----------', '---------- BRONISZE ----------', '------- STARY SĘKOCIN --------', 'Matysiakówny', 'Marii Callas', 'Malinowa', 'Mazurska', 'Modrzewiowa', 'Marianki', 'Malownicza', 'Mariańska', 'Markowskiego', 'Kajki', 'Kolejowa', 'Klonowa', 'Koszykowa', 'Krasińskiego', 'Kondratowicza', 'Krasnobrodzka', 'Korotyńskiego', 'al.Rodowicza \"Anody\"', 'Kępa Tarchomińska', 'Jana Olbrachta', 'Jastrzębowskiego', 'Kazimierza Kamińskiego', 'Klubowa', 'Jórskiego', 'Księcia Janusza I Starego', 'Konotopska', 'Jana Kazimierza', 'Jedności', 'Republikańska', 'Bagatela', 'Brukowa', 'Barkocińska', 'Bobrowiecka', 'Bolesława Chrobrego', 'Bohaterów Warszawy', 'Błękitna', 'Browarna', 'Bazyliańska', 'Bartóka', 'Chodecka', 'Bronisława Czecha', 'Chodakowska', 'Chełmska', 'Człuchowska', 'Conrada', 'św.Andrzeja Boboli', 'Chałubińskiego', 'Czynszowa', 'al.Zieleniecka', 'al.Witosa', 'al.Wilanowska', 'al.Tysiąclecia', 'al.\"Solidarności\"', 'Andriollego', 'al.Sikorskiego', '---- WOLICA k. PŁOCHOCINA ----', 'al.Komandosów', 'Bora-Komorowskiego', 'Wirażowa', 'Wyganowska', 'Witebska', 'Wąwozowa', 'Wesoła', 'Wiechy', 'Współczesna', '--------- PŁOCHOCIN ----------', 'Weteranów', '-------- NOWE BABICE ---------', '--------- MŁOCHÓW ------------', 'Żupnicza', 'Powsińska', '--------- ROZALIN ------------', 'Parowozowa', 'Żyrardowska', 'Petunii', 'Poznańska', 'Przyrzecze', 'Przy Bażantarni', 'Porajów', 'Żelazna', 'Żegańska', 'Żołnierska', 'Zwycięzców', 'Zdziarska', 'Zakole', 'Zamieniecka', 'Zamoyskiego', 'Zakroczymska', 'Zamenhofa', 'Ząbkowska', 'Zabraniecka', '---------- UWIELINY ----------', '--------- GABRYELIN ----------', 'Rolanda', '-------- KĘDZIERÓWKA ---------', 'Wiejska', '---------- JEZIÓRKO ----------', '--------- BIAŁY ŁUG ----------', '---------- WĄGRODNO ----------', '---------- PISKÓRKA ----------', '----------- ŁAWKI ------------', 'Równoległa', 'Orla', 'Orzeszkowej', 'Piastowska', 'Sadowa', '---------- IZABELIN ----------', '--- BLIZNE ŁASZCZYŃSKIEGO ----', '----- BLIZNE JASIŃSKIEGO -----', '---------- LUBICZÓW ----------', '--------- LATCHORZEW ---------', 'Ostródzka', '-------- STARE BABICE --------', '----------- OŻARÓW -----------', '----- OŻARÓW MAZOWIECKI ------', '---------- OŁTARZEW ----------', 'Krakowskie Przedmieście', 'Królewska', 'Wołoska', 'Kasprzaka', 'Książęca', 'Gen.Kaliskiego', 'Kilińskiego', 'Kijowska', 'Kawęczyńska', '---------- WIĄZOWNA ----------', '---------- ZIELONKI ----------', '-------- NOWA IWICZNA --------', '--------- NOWA WOLA ----------', '---------- GÓRASZKA ----------', '---------- SZAMOTY -----------', '------- OPACZ-KOLONIA --------', '---------- JULIANÓW ----------', 'Jutrzenki', 'Julianowska', 'Jarzębskiego', 'Jugosłowiańska', 'Juranda ze Spychowa', 'Jaworówka', 'Stryjeńskich', 'Umińskiego', 'Uprawna', '4 Czerwca 1989 r.', '6 Września', '100-Lecia', 'IV Pułku Ułanów', 'Napoleońska', 'Asfaltowa', 'Cieślewskich', 'Czołchańskiego', 'Cienista', 'Czerwonych Beretów', 'Chyliczkowska', 'Cynkowa', 'Chopina', 'Chotomowska', 'al.Krakowska', 'al.KEN', 'al.Jana Pawła II', 'al.Dzieci Polskich', 'al.Niepodległości', 'al.Poniatowskiego', 'al.Lotników', 'al.Wojska Polskiego', 'al.Prymasa Tysiąclecia', 'al.Reymonta', 'Wschodnia', 'Wierzejewskiego', 'Wiertnicza', 'Wybrzeże Gdyńskie', 'Wiosenna', 'Wyczółki', 'Bartycka', 'Brazylijska', 'Bonifraterska', 'Belwederska', 'Banacha', 'Słomińskiego', 'Joliot-Curie', 'Bliska', 'tunel pod al.Jana Pawła II', 'ślimak zjazdowy', 'zawrotka na rondzie', 'Jagiellońska', 'Prusa', 'Podkowy', 'Pułkowa', 'Płaskowickiej', 'Popularna', 'Polna', 'Potrzebna', 'Poleczki', 'Sławka', 'Potocka', 'Szamoty', '------ PIOTRKÓWEK MAŁY -------', '--------- STRZYKUŁY ----------', 'Zagórzańska', 'Złotej Jesieni', 'Zagłoby', '--------- WIERUCHÓW ----------', 'Zasadowa', 'Zegarynki', 'Złota', 'Zwoleńska', 'Zielona', '--------- DĄBKOWIZNA ---------', '---------- SOBIKÓW -----------', '----- WÓLKA RADZYMIŃSKA ------', 'Racławicka', 'Radzymińska', '--------- ORZESZYN -----------', '---------- DOBIESZ -----------', 'Ratuszowa', 'Radiowa', '--------- JASTRZĘBIE ---------', 'Rakowiecka', '--------- SIEDLISKA ----------', 'Rembielińska', 'Lutosławskiego', '---------- NIEPORĘT ----------', '---- STANISŁAWÓW PIERWSZY ----', '------- REMBELSZCZYZNA -------', '----------- OTWOCK -----------', '----------- RYBIE ------------', '----------- JANKI ------------', '----------- RASZYN -----------', '-------- BIAŁOBRZEGI ---------', '----------- LASKI ------------', '------- NOWY PODOLSZYN -------', 'Kołobrzeska', 'Kołłątaja', 'Kiedacza', 'Kwiatowa', '---------- WIERZBIN ----------', '--------- WOJCIESZYN ---------', '-------- STRZENIÓWKA ---------', '----------- LIPKÓW -----------', '------- KOCZARGI STARE -------', '------- KOCZARGI NOWE --------', '------- ZIELONKI-WIEŚ --------', '--------- OKRZESZYN ----------', '--------- ZŁOTOKŁOS ----------', '-------- MICHAŁOWICE ---------', '---------- DUCZKI ------------', 'Lalki', 'Leszno', '11 Listopada', 'Ludna', 'Lazurowa', 'Lubelska', 'Spokojna', 'Projektowana', 'Pęclińska', 'Kościelna', 'Czerwona Droga', 'Cierlicka', 'Ciupagi', 'Czerniakowska', 'Cygańska', 'Ciołka', 'Czołowa', 'Cegielniana', 'Chylicka', 'al.Szucha', 'Ateńska', 'Arkuszowa', 'Annopol', 'Al.Ujazdowskie', 'Anielewicza', 'Al.Jerozolimskie', 'Augustówka', 'Antoniewska', 'Wiązowska', 'Włodarzewska', 'Wołomińska', 'Włościańska', 'Wędrowców', 'Wrzosowa', 'Bartnicza', 'Brukselska', 'Broniewskiego', 'Borzymowska', 'Białołęcka', 'Bracka', 'Berensona', 'Bronowska', 'Bysławska', 'Waniliowa', 'Wróbelka', 'zawrotka', 'droga nr 712', 'zawrotka pod wiaduktem', 'Piastów Śląskich', 'Przytulna', 'Partyzantów', 'POW', 'Przesmyckiego', 'Prząśniczek', 'Świętochowskiego', 'Sochaczewska', 'Skoroszewska', 'Skalnicowa', 'Zachodnia', 'Zdobnicza', 'ks.Zagańczyka', 'Zgrzebna', 'Zaborowska', 'Źródlana', 'Regulska', 'Rudzka', 'Raciborska', 'Raszyńska', 'Rzymowskiego', 'Racjonalizacji', 'Rozłucka', '---------- ŚWIĘCICE ----------', 'Rosoła', 'Redutowa', 'Strażacka', 'Spartańska', 'Samarytanka', 'Spychowska', 'Szymanowskiego', 'Surowieckiego', 'Stepowa', 'Spisaka', '----- KOLONIA LESZNOWOLA -----', 'Szczęśliwicka', '---------- ŻANĘCIN -----------', '---------- LIPOWO ------------', '------- CHYLICE-PÓLKO --------', '---------- JÓZEFÓW -----------', 'gen.Maczka', '---- KONSTANCIN-JEZIORNA -----', '---------- JABŁONNA ----------', '--------- LEGIONOWO ----------', 'pl.Tysiąclecia', '---------- PIASTÓW -----------', '---------- PALMIRY -----------', '------- KAMPINOSKI PN --------', '------------ MORY ------------', 'ks.Chrościckiego', 'Kraszewskiego', 'Kościuszkowców', '---------- PODŁĘCZE ----------', '---------- DĘBÓWKA -----------', '------------ ŁAZY ------------', '--------- MYSZCZYN -----------', '--------- MAGDALENKA ---------', '--------- LESZNOWOLA ---------', '------- KĄTY WĘGIERSKIE ------', '------- BORZĘCIN DUŻY --------', '--------- JANCZEWICE ---------', 'Romera', '--------- PILASZKÓW ----------', '----- POGROSZEW KOLONIA ------', 'Lewandów', 'Legionowa', 'Lipowa', 'Lanciego', 'Lucerny', 'Lipkowska', 'Hrabska', 'Hemara', 'Hallera', 'Henrykowska', 'Fortowa', 'Chudoby', 'tunel pod torami', 'droga ekspresowa S8', 'droga przy CH MAXIMUS', 'Willowa', 'Warecka', 'Wilanowska', 'Watykańska', 'Wczasowa', 'Witosa', 'Wolności', 'Wyścigowa', 'pl.Narutowicza', 'pl.Unii Lubelskiej', 'Wiekowej Sosny', 'Wygody', 'rondo Starzyńskiego', 'pl.Bankowy', 'pl.Konstytucji', 'pl.Zawiszy', 'pl.Wilsona', 'Wodna', 'Poligonowa', 'Plantowa', 'Przejazd', 'Pułaskiego', 'Powstańców', 'Przewoska', 'Piasta', 'Poniatowskiego', '1.Praskiego Pułku Wp', '---------- TOMICE ------------', 'Świętosławskiego', 'Światowida', 'św.Bonifacego', 'Świętokrzyska', 'Środkowa', 'św.Cyryla i Metodego', 'Świderska', 'Świerszcza', 'św.Wincentego', 'Zaułek', 'Zielonych Sosen', 'ks.Załuskiego', 'Zamoście', 'Zaleśna', 'Zielonej Gęsi', '----- MROKOWSKA KOLONIA ------', '-------- WARSZAWIANKA --------', '--------- SULEJÓWEK ----------', 'Spalinowa', 'Stawki', 'Smocza', '----------- MROKÓW -----------', 'Strąkowa', 'Sowińskiego', 'Sienkiewicza', 'Pużaka', '----------- WOLICA -----------', 'Swojska', 'Syta', 'Moliera', '---------- SZCZAKI -----------', 'droga przy cmentarzu', 'teren zajezdni', 'łącznik do ul.Drewny', 'droga w Żanęcinie', 'jezdnia płn. DW.CENTRALNEGO', 'jezdnia lokalna', 'most Grota-Roweckiego', 'Narcyzowa', 'Aluzyjna', 'Nowolipie', 'Meissnera', 'Osiedlowa', 'Kasprzykiewicza', 'Kobiałka', 'Przytorowa', 'Mochtyńska', 'Osmańska', 'Ogrodowa', 'Orszagha', 'Osmańczyka', 'Obrońców Tobruku', 'Orężna', '---------- PIEŃKÓW -----------', '--------- HIPOLITÓW ----------', '------- KIEŁPIN STARY --------', '---------- ŁOMIANKI ----------', '------ DZIEKANÓW POLSKI ------', '------ DZIEKANÓW LEŚNY -------', '------- NOWY DZIEKANÓW -------', '----------- SADOWA -----------', 'most Łazienkowski', '----------- ZABORÓW ----------', '------- WOLA GOŁKOWSKA -------', '----------- LESZNO -----------', '---------- ZABORÓWEK ---------', '-------- WŁADYSŁAWÓW ---------', '-------- WILCZA GÓRA ---------', '--------- ANTONINÓW ----------', '--------- KULESZÓWKA ---------', '------------ KOSÓW -----------', '---------- WYGLĘDY -----------', 'most Śląsko-Dąbrowski', 'Wielkiego Dębu', 'Łąkowa', 'Łączności', 'Łyczyńska', 'most Gdański', 'Leśna', '600-lecia', 'Lokalna', 'Literatów', 'Matejki', 'Modzelewskiego', 'Marywilska', 'Mazowiecka', 'Malborska', 'Mieszka I', 'Michalinki', 'Karowa', 'Muranowska', 'Myszkowska', 'Kadłubka', 'Młoda', 'Handlowa', 'Hiacyntowa', 'Hynka', 'Hubala-Dobrzańskiego', 'Herbsta', 'Hłaski', '---------- BIELAWA -----------', 'Czarna', 'Czajki', 'Chlubna', 'most Świętokrzyski', 'Cichorackiej', 'Czerska', 'Calowa', '--------- JABŁONOWO ----------', 'Czynu Społecznego', 'Jasna', 'Nadrzeczna', 'droga nr 868', 'droga nr 721', 'droga w Kępie Okrzewskiej', 'droga przez Okrzeszyn', 'Al.Kalin', 'Alpejska', 'Armii Poznań', 'Arakowa', 'rondo Zesłańców Syberyjskich', 'pl.Szembeka', 'pl.Krasińskich', 'pl.Teatralny', 'pl.Piłsudskiego', 'pl.Hallera', 'pl.Trzech Krzyży', 'rondo Waszyngtona', 'Polskiego Państwa Podziemnego', 'Podlaska', 'Pieniążka', 'Przejazdowa', 'Przedpełskiego', 'Politechniczna', 'Pańska', 'Płytowa', 'Produkcyjna', 'Ślusarskiego', 'Skośna', 'Kazimierza Wielkiego', 'Zagórna', 'Stalowa', 'ks.Popiełuszki', 'Starzyńskiego', 'Skierniewicka', 'Szeligowska', 'Słowackiego', 'Polnych Kwiatów', 'Siedmiogrodzka', 'Szwoleżerów', 'Parkowa', 'wiadukt mostu Poniatowskiego', 'teren CH Targówek', 'droga do Rzakty', 'droga w Rzakcie', 'droga w Dziechcińcu', 'przejazd przez tory', 'Karolkowa', 'Jodłowa', 'Ks.Poławskiego', 'Ossowska', 'Ciećwierza', 'Obrońców Grodna', 'Okunin', 'Ogrodnicza', 'Oświatowa', 'Olszewskiego', '---- SIERAKÓW k. RADZYMINA ---', '------- KĘPA OKRZEWSKA -------', '-------- STARA IWICZNA -------', '---- DĄBROWA CHOTOMOWSKA -----', 'Starodęby', 'Pijarska', '-------- DZIECHCINIEC --------', '--------- MALCANÓW -----------', 'al.Bohaterów Września', '--------- GLINIANKA ----------', 'Pamiętajcie o Ogrodach', 'Suwak', 'Paschalisa-Jakubowicza', 'Szujskiego', '----------- KĄCK -------------', '------ ZIELONKI-PARCELA ------', '------- CYBULICE DUŻE --------', 'Łaszczyńskiego', 'Łowicka', 'Łopuszańska', 'Łojewska', 'Łabiszyńska', 'Łączyny', 'Łukowska', 'Łazienkowska', 'Łodygowa', 'Lisa-Kuli', 'Leszczyńska', 'Laskowa', 'Leszyckiego', 'Lipińska', '------- KRUPIA WÓLKA ---------', 'Kredytowa', 'Księcia Ziemowita', 'Keniga', 'Krucza', 'Karczunkowska', 'Kopernika', 'Kochanowskiego', 'Kościuszki', 'Kąty Grodziskie', '---------- USTANÓW -----------', '---------- NADARZYN ----------', '---------- KAJETANY ----------', 'Mirkowska', 'Myśliborska', 'Niepokalanowska', '-------- ALEKSANDRÓW ---------', 'Nadmeńska', 'Gwiaździsta', 'Globusowa', 'Grzybowska', 'Górczewska', 'Gościniec', 'Grójecka', 'Grochowska', 'Grenadierów', 'jezdnia węzła \"Zamienie\"', 'parking GOSIR', 'droga powiatowa', 'zawrotka na wysokości Pomnika', 'droga nr 579', 'teren stacji paliw', 'droga krajowa nr 7', 'Fajna', 'Fedorowicza', 'Falińskiego', 'Frontowa', 'Fabryczna', 'pl.Szwedzki', 'pl.Małachowskiego', 'rondo \"Radosława\"', 'pl.Inwalidów', 'rondo Dmowskiego', 'pl.Na Rozdrożu', 'pl.Grunwaldzki', 'rondo ONZ', 'rondo Daszyńskiego', 'Prystora', 'Platanowa', 'Prętowa', 'Prymasa Wyszyńskiego', 'Potulickich', 'Paluch', 'Przylesie', 'Sielecka', 'Szumiących Traw', 'Sąsiedzka', 'Sielska', 'Śniadeckich', 'Słoneczników', 'Sarenki', 'al.Wittek', 'Al.Harcerzy Rzeczpospolitej', 'Aleja Róż', 'al.POW', 'al.Rzeczypospolitej', 'al.Waszyngtona', 'Sasanki', 'Sokratesa', 'Rosochata', 'Sobieskiego', 'Stanisławowska', 'Szwedzka', 'Solec', 'Senatorska', 'Spacerowa', 'Komitetu Obrony Robotników', 'Saska', 'zawrotka przy zajezdni', 'przejazd przez pętlę autob.', 'Ostroroga', 'Tatarska', 'Grzybowa', 'Szosowa', 'Świętojerska', 'Komorowska', 'Opolska', 'Piwna', 'Potulicka', 'Pszeniczna', '---------- PODDĘBIE ----------', '---------- PONIATÓW ----------', '---------- WIKTORÓW ----------', '------------ EMÓW ------------', '----------- WÓLKA ------------', '---------- MARIEW ------------', '--- IZABELIN k. NIEPORĘTU ----', '---------- CHOTOMÓW ----------', 'Wynalazek', '---------- ZIELONKA ----------', 'Tunelowa', 'Prądzyńskiego', 'Brylowska', 'Szarych Szeregów', 'Krzyżanowskiego', 'Napoleona', 'Krechowiecka', '---------- KOMORNICA ---------', 'Międzyparkowa', 'Marszałkowska', 'Młynarska', 'Marynarska', 'Mickiewicza', 'Mszczonowska', 'Marymoncka', '---------- KAMIONKA ----------', '----------- MARKI ------------', 'Miodowa', 'Myśliwiecka', '---------- PRUSZKÓW ----------', 'Goworka', 'Gagarina', 'Gotarda', 'Gorzykowska', 'Gołkowska', 'Gdańska', 'Górnośląska', 'Głębocka', 'droga krajowa nr 79', 'jezdnia lokalna trasy S-8', 'Filipowicza', 'Falencka', 'Pileckiego', 'Francuska', 'Filtrowa', 'Fort Wola', 'Fieldorfa', 'Floriana', 'Fleminga', \"rondo de Gaulle'a\", 'pl.Przymierza', 'rondo Jazdy Polskiej', 'pl.Kasztelański', 'Zajęcza', 'al.Zjednoczenia', 'al.Dwudziestolecia', 'Akacjowa', 'Akademijna', 'Animuszu', 'al.Katowicka', 'al.Kasztanowa', 'al.Becka', 'Konopacka', 'Sikorskiego', 'Nowopiaseczyńska', 'Stołeczna', 'Szyszkowa', 'Sosnkowskiego', 'parking przy STP', 'zawrotka na pętli', 'zawrotka przy ul.Ogrodowej', 'Prażmowska', 'Rybna', 'Ks.Żaboklickiego', 'Podczaszyńskiego', 'Żubrowa', '-------- KRAKOWIANY ----------', '------ WOLA KRAKOWIAŃSKA -----', 'Żwirki i Wigury', '---------- PŁAWY -------------', '---------- URZUT -------------', 'Żeromskiego', '-------- STARA WIEŚ ----------', '---------- RUSIEC ------------', '---------- KOBYŁKA -----------', '---------- WOŁOMIN -----------', 'Łasaka', 'Łukasińskiego', 'Radziwiłłów', '------------- ŁOŚ ------------', '------- NOWE WĄGRODNO --------', '--------- MICHAŁÓWEK ---------', '---------- ZAWODNE -----------', '-------- NOWY PRAŻMÓW --------', '---------- KIEŁPIN -----------', '---- IZABELIN-DZIEKANÓWEK ----', '---------- IZABELA -----------', 'Międzyborska', 'Malczewskiego', 'Marsa', 'Modlińska', 'Mehoffera', 'Mołdawska', 'Madalińskiego', 'Międzynarodowa', 'Mińska', 'Młodzieńcza', '---------- SŁUPNO ------------', '--------- CEGIELNIA ----------', '--------- RADZYMIN -----------', '---------- PĘCLIN ------------', '------- NOWE ZAŁUBICE --------', '--------- RADIÓWEK -----------', '--------- BĄKÓWKA ------------', '--------- ROBERCIN -----------', '--------- CZARNÓWKA ----------', '---------- RZAKTA ------------', 'Grabskiego', 'Gąsiorowskiej', 'Główna', 'Grodziska', 'Graniczna', 'Gilarska', 'Dzielna', 'Kosynierów', 'pl.Wolności', 'pl.Poniatowskiego', 'rondo gen.Fieldorfa', 'pl.3.Kompanii AK', 'Konstytucji 3 Maja', 'Kupiecka', 'Estrady', 'Egipska', 'Emilii Plater', 'Elbląska', 'Ekspresowa', 'Elekcyjna', 'Kazimierza Jagiellończyka', 'Smoleńska', 'Szatkowników', 'Sosnowa', 'Skibińskiego', 'Skrzyneckiego', 'Szymanowska', '------ JANÓWEK PIERWSZY ------', 'zagórzańska droga', 'Prawdziwka', 'Rosnowskiego', 'Korbońskiego', 'Relaksowa', 'Przyszłość', 'Szosa Jadowska', 'Małołęcka', 'Izabelińska', 'Nowaka-Jeziorańskiego', 'Ruskowy Bród', '---------- SKRZESZEW ---------', 'Poloneza', 'Kołomyjska', '---------- BASZKÓWKA ---------', '--- JULIANÓW k. CZACHÓWKA ----', 'Nadarzyn', '------ OLSZEWNICA STARA ------', '------- OLSZEWNICA NOWA ------', 'Piusa XI', 'Parcelacyjna', 'Pomorska', 'Żółkiewskiego', 'al.Sztandarów', 'Wilczy Dół', '------ STARE ZAŁUBICE --------', '----------- BORKI ------------', '----------- PAROLE -----------', '--------- ŻABIENIEC ----------', '---- JÓZEFÓW k. LEGIONOWA ----', '--------- KOSTOWIEC ----------', '--------- BORYSZEW -----------', '---------- NADMA -------------', '-------- JÓZEFOSŁAW ----------', '---------- DUCHNÓW -----------', '---- SOWIA WOLA FOLWARCZNA ---', '--------- SOWIA WOLA ---------', '----- JANÓW-MIKOŁAJÓWKA ------', '--------- WRZOSÓWKA ----------', '---------- MAŁOCICE ----------', '---------- JESIONKA ----------', '--------- AUGUSTÓWEK ---------', '---------- DOBRZYŃ -----------', '--------- ŁOMNA-LAS ----------', '---------- SOLEC -------------', 'Okrzewska', 'Piaskowa', 'Wyszyńskiego', 'rondo Wiatraczna', 'marszałka F.Focha', 'most Skłodowskiej-Curie', 'ks.Słojewskiego', 'Mrówcza', 'Korczaka', 'Kameralna', 'Kadetów', 'Kosmowska', 'Masztowa', 'Młodych Wilcząt', 'Matki Teresy z Kalkuty', 'Opaczewska', 'Hubalczyków', '--------- TUROWICE -----------', '--------- SŁOMCZYN -----------', '--------- WIELISZEW ----------', '---------- ZALESIE -----------', '-------- JASTRZĘBIEC ---------', '------ MICHAŁÓW-REGINÓW ------', '---------- ŁAJSKI ------------', '----- WIĄZOWNA KOŚCIELNA -----', '---------- BRZEŚCE -----------', '--------- KAWĘCZYN -----------', 'WÓLKA', 'URSUS', 'WÓLKA KOZODAWSKA', 'SOWIA WOLA FOLWARCZNA', 'GÓRA KALWARIA', 'WOLICA', 'GŁOSKÓW', 'GÓRASZKA', 'WÓLKA KOSOWSKA', 'GABRYELIN', 'GRĄDY', 'GARBATKA', 'GASSY', 'GÓRA', 'GLINIANKA', 'GŁOSKÓW-LETNISKO', 'GOŁKÓW', 'WOLA MROKOWSKA', 'WOLA DUCKA', 'WIKTORÓW', 'MOSTÓWKA', 'WÓLKA DWORSKA', 'OBORY', 'WÓLKA PRACKA', 'MAŁOCICE', 'MAJDAN k. WOŁOMINA', 'MICHAŁÓWEK', 'WIERZBIN', 'WYGLĘDY', 'WOLA KARCZEWSKA', 'LEŚNIAKOWIZNA', 'ZALESIE', 'ZIELONKI', 'ZAMIENIE', 'NOWE ZAŁUBICE', 'ZABORÓWEK', 'ZIELONKA', 'ZAWODNE', 'ZALESIE GÓRNE', 'ZAGÓRZE', 'ZABORÓW', 'ZĄBKI', 'ZIELONKI-PARCELA', 'ZAKRĘT', 'ZIELONKI', 'ZEGRZE PŁD.', 'ZGORZAŁA', 'STARE ZAŁUBICE', 'MARIEW', 'MAJDAN', 'MAGDALENKA', 'MALCANÓW', 'MOŚCISKA', 'WILANÓW', 'MICHAŁÓW-REGINÓW', 'URSYNÓW', 'MROKÓW', 'MYSIADŁO', 'MORY', 'MYSZCZYN', 'MOCZYDŁÓW', 'MACIERZYSZ', 'SKIERDY', 'STARE LIPINY', 'SIERZCHÓW', 'STANISŁAWÓW DRUGI', 'STRZYKUŁY', 'SOLEC', 'SOWIA WOLA', 'SIERAKÓW k. RADZYMINA', 'STANISŁAWÓW', 'FALENTY', 'JAROSZOWA WOLA', 'SZCZAKI', 'SŁOMCZYN', 'SKRZESZEW', 'SIERAKÓW', 'SŁUPNO', 'STARA WIEŚ', 'STARY SĘKOCIN', 'SĘKOCIN LAS', 'SUCHOCIN', 'STARA IWICZNA', 'SADOWA', 'SOBIKÓW', 'STANISŁAWÓW PIERWSZY', 'SZAMOTY', 'SULEJÓWEK', 'ŚWIĘCICE', 'STARE BABICE', 'STRZENIÓWKA', 'JESIONOWA', 'STEFANOWO', 'STARE GRABIE', 'SIEDLISKA', 'ZADĘBIE', 'LEGIONOWO', 'LESZNO', 'LUBICZÓW', 'LESZNOWOLA', 'LIPINKI', 'LIPOWO', 'LATCHORZEW', 'LASKI', 'LIPKÓW', 'ZŁOTOKŁOS', 'ŁOZISKA', 'ZAGOŚCINIEC', 'LININ', 'MŁOCHÓW', 'SZYMANÓW', 'RASZYN', 'WAWER', 'RUNÓW', 'REMBERTÓW', 'WESOŁA', 'RYBIE', 'RZAKTA', 'RADZYMIN', 'ROBERCIN', 'RADIÓWEK', 'REMBELSZCZYZNA', 'RYNIA', 'KĘDZIERÓWKA', 'RAJSZEW', 'RUDKA', 'KAŁUSZYN', 'KIEŁPIN', 'DOBRZYŃ', 'EMÓW', 'DĄBROWA CHOTOMOWSKA', 'DĘBÓWKA', 'ŻABIENIEC', 'ŻANĘCIN', 'KĘPA OBORSKA', 'KRZAKI CZAPLINKOWSKIE', 'KARCZEW', 'DĘBÓWKA k. GÓRY KALWARII', 'KOMORNICA', 'KAMIONKA', 'KAWĘCZYNEK', 'KRUBIN', 'KAWĘCZYN', 'KĄTY', 'KOCZARGI NOWE', 'KOBYŁKA', 'KAMPINOS', 'KOCZARGI STARE', 'KĄTY WĘGIERSKIE', 'KĘPA OKRZEWSKA', 'KLAUDYN', 'KULESZÓWKA', 'KONSTANCIN-JEZIORNA', 'KAMPINOSKI PN', 'KONIK NOWY', 'KOLONIA LESZNOWOLA', 'KONIK STARY', 'KWIRYNÓW', 'KOPRKI', 'KOLONIA WARSZAWSKA', 'KOSTOWIEC', 'KAPUTY', 'KAJETANY', 'KRUPIA WÓLKA', 'KRAKOWIANY', 'KOSÓW', 'DOBIESZ', 'DZIEKANÓW LEŚNY', 'DĄBKOWIZNA', 'DAWIDY BANKOWE', 'DUCZKI', 'DĘBINA', 'DZIECHCINIEC', 'DAWIDY', 'DUCHNÓW', 'DZIEKANÓW POLSKI', 'PRUSZKÓW', 'PIASECZNO', 'PONIATÓW', 'PIASTÓW', 'WILCZA GÓRA', 'WIELISZEW', 'WŁADYSŁAWÓW', 'WOJCIESZYN', 'JÓZEFÓW', 'JASTRZĘBIEC', 'NOWE WĄGRODNO', 'WOŁOMIN', 'JAWOROWA', 'JANÓWEK PIERWSZY', 'WIĄZOWNA', 'JÓZEFOSŁAW', 'JULIANÓW', 'JANÓW-MIKOŁAJÓWKA', 'JANÓW', 'CIĘCIWA', 'WIĄZOWNA KOŚCIELNA', 'JANCZEWICE', 'JANKI', 'JESÓWKA', 'JÓZEFÓW k. LEGIONOWA', 'JAZGARZEW', 'JASTRZĘBIE', 'JABŁONNA', 'JAWCZYCE', 'PISKÓRKA', 'POGROSZEW', 'BIAŁOŁĘKA', 'TARGÓWEK', 'JULIANÓW k. CZACHÓWKA', 'JESIONKA', 'WIEJCA', 'WOLICA k. PŁOCHOCINA', 'WOLA WĄGRODZKA', 'WÓLKA RADZYMIŃSKA', 'WOLA ALEKSANDRA', 'WIERUCHÓW', 'WINCENTÓW', 'WILKOWA WIEŚ', 'JEZIÓRKO', 'WALENDÓW', 'ŁĘG', 'PRAGA-POŁUDNIE', 'MOKOTÓW', 'PRAGA-PÓŁNOC', 'ŻOLIBORZ', 'ŚRÓDMIEŚCIE', 'OCHOTA', 'WOLA', 'PASZKÓW', 'PIECZYSKA', 'PARCELA', 'PAROLE', 'OBRĘB', 'PODOLSZYN', 'PĘCLIN', 'POGROSZEW KOLONIA', 'PŁOCHOCIN', 'PILAWA', 'NOWY PODOLSZYN', 'PODDĘBIE', 'PILASZKÓW', 'PALMIRY', 'PIOTRKÓWEK MAŁY', 'PODŁĘCZE', 'ŁBISKA', 'PIEŃKÓW', 'ŁADY', 'PÓLKO', 'RUSIEC', 'ŁAJSKI', 'ŁOMIANKI', 'ŁOMNA', 'ŁOŚ', 'ŁUBNA', 'ŁAWKI', 'ŁYCZYN', 'ŁAZY', 'KĄCK', 'WOLA KRAKOWIAŃSKA', 'WOLA GOŁKOWSKA', 'BIELANY', 'CZARNA', 'CZAPLIN', 'CZACHÓWEK', 'WOLA PRAŻMOWSKA', 'CZERSK', 'CISZYCA', 'CHYLICE', 'CONIEW', 'CENDROWICE', 'CZĄSTKÓW MAZOWIECKI', 'CHYLICZKI', 'CIECISZEW', 'CZARNÓW', 'CEGIELNIA', 'CZERNIDŁA', 'CZARNÓWKA', 'CYBULICE DUŻE', 'CZOSNÓW', 'CZARNY LAS', 'CZAPLINEK', 'CHOTOMÓW', 'ROZALIN', 'MARYSIN', 'ŁĄKI', 'PRAŻMÓW', 'MARKI', 'PŁAWY', 'ŁOMNA-LAS', 'IZABELIN', 'IZABELIN k. NIEPORĘTU', 'WRZOSÓWKA', 'IZABELA', 'IZABELIN-DZIEKANÓWEK', 'GROCHOWA-PĘCHERY', 'BORZĘCIN DUŻY', 'BRZEZINY', 'BOGATKI', 'BASZKÓWKA', 'BIAŁOBRZEGI', 'BANIOCHA', 'BORZĘCIN MAŁY', 'BRONISZE', 'BOROWINA', 'BIELAWA', 'BLIZNE JASIŃSKIEGO', 'BORKI', 'BIAŁY ŁUG', 'BĄKÓWKA', 'BOBROWIEC', 'BORYSZEW', 'BRZEŚCE', 'OPACZ-KOLONIA', 'OLSZEWNICA NOWA', 'OŻARÓW MAZOWIECKI', 'OKRZESZYN', 'BEMOWO', 'BOŻA WOLA', 'OSSÓW', 'OKUNIN', 'OTWOCK', 'OLSZEWNICA STARA', 'ORZESZYN', 'OPACZ', 'HIPOLITÓW', 'HENRYKÓW-UROCZE', 'HORNÓWEK', 'BENIAMINÓW', 'HABDZIN', 'HELENÓW k. WOŁOMINA', 'UWIELINY', 'USTANÓW', 'URZUT', 'UMIASTÓW', 'OBÓRKI', 'BLIZNE ŁASZCZYŃSKIEGO', 'NOWA WOLA', 'NOWE LIPINY', 'NOWY DWÓR MAZ.', 'NADMA', 'NOWE BABICE', 'NADARZYN', 'NOWE GRABIE', 'NIEPORĘT', 'NOWY PRAŻMÓW', 'NOWY SĘKOCIN', 'NOWA WOLA', 'OŁTARZEW', 'WĄGRODNO', 'TURÓW', 'TUROWICE', 'TRUSKAW', 'WŁOCHY', 'TOMICE', 'NOWY DZIEKANÓW', 'ALEKSANDRÓW', 'ANTONINÓW', 'AUGUSTÓWEK', 'CZĄSTKÓW POLSKI']\n",
      "1841\n",
      "[]\n"
     ]
    }
   ],
   "source": [
    "## download all busstop_id\n",
    "\n",
    "ids = []\n",
    "\n",
    "with open('data/dictionary.json', 'r') as f:\n",
    "    data = json.load(f)\n",
    "\n",
    "all_names = list(data['result']['ulice'].values()) + list(data['result']['miejsca'].values())\n",
    "\n",
    "print(all_names)\n",
    "\n",
    "ids = []\n",
    "\n",
    "print(len(all_names))\n",
    "\n",
    "i = 0\n",
    "for name in all_names:\n",
    "    res = data_loader.download_stop_info(name)\n",
    "    if res != []:    \n",
    "        ids += res['result']\n",
    "    i += 1\n",
    "    if i == 10:\n",
    "        break\n",
    "    print(i)\n",
    "\n",
    "with open('data/')\n",
    "\n",
    "print(ids)"
   ]
  },
  {
   "cell_type": "markdown",
   "metadata": {},
   "source": []
  },
  {
   "cell_type": "code",
   "execution_count": null,
   "metadata": {},
   "outputs": [
    {
     "data": {
      "text/plain": [
       "['01', '02', '03', '04', '05', '06', '07', '08', '88']"
      ]
     },
     "execution_count": 10,
     "metadata": {},
     "output_type": "execute_result"
    }
   ],
   "source": [
    "with open('data/stops_info.json', 'r') as f:\n",
    "    data = json.load(f)\n",
    "\n",
    "id_stop_nrs = [x[\"values\"][1]['value'] for x in data[\"result\"] if x[\"values\"][0]['value'] == '1001']\n",
    "\n",
    "print(ids)\n",
    "\n",
    "for id in ids:\n",
    "    id_stop_nrs[id] = [x[\"values\"][1]['value'] for x in data[\"result\"] if x[\"values\"][0]['value'] == id]\n",
    "\n",
    "id_stop_nrs"
   ]
  },
  {
   "cell_type": "code",
   "execution_count": null,
   "metadata": {},
   "outputs": [],
   "source": [
    "def json_line_schedules(busstop_id, busstop_nr, line):\n",
    "    res = {}\n",
    "    res[\"linia\"] = line\n",
    "    res[\"slupek\"] = busstop_nr\n",
    "    data = data_loader.download_schedule_info(busstop_id, busstop_nr, line)\n",
    "    res[\"trasa\"] = data[\"result\"]\n",
    "    return res\n",
    "\n",
    "line = json_line_schedules(1405, '01', 516)\n",
    "\n",
    "def zespol_info(name):\n",
    "    stop_info = data_loader.download_stop_info(name)\n",
    "    busstop_id = stop_info[\"result\"][0][\"values\"][0][\"value\"]\n",
    "    print(busstop_id)\n",
    "\n",
    "zespol_info(\"Szaserów\")\n",
    "\n",
    "def get_stops_from_id(busstop_id):\n",
    "    \n",
    "\n",
    "# print(json.dumps(line, indent=4))"
   ]
  }
 ],
 "metadata": {
  "kernelspec": {
   "display_name": "Python 3",
   "language": "python",
   "name": "python3"
  },
  "language_info": {
   "codemirror_mode": {
    "name": "ipython",
    "version": 3
   },
   "file_extension": ".py",
   "mimetype": "text/x-python",
   "name": "python",
   "nbconvert_exporter": "python",
   "pygments_lexer": "ipython3",
   "version": "3.10.12"
  }
 },
 "nbformat": 4,
 "nbformat_minor": 2
}
